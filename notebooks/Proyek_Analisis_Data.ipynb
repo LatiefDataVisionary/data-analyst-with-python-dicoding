{
  "cells": [
    {
      "cell_type": "markdown",
      "metadata": {
        "id": "view-in-github",
        "colab_type": "text"
      },
      "source": [
        "<a href=\"https://colab.research.google.com/github/LatiefDataVisionary/latihan-analisis-data-menggunakan-python-dicoding/blob/main/Proyek_Analisis_Data.ipynb\" target=\"_parent\"><img src=\"https://colab.research.google.com/assets/colab-badge.svg\" alt=\"Open In Colab\"/></a>"
      ]
    },
    {
      "cell_type": "markdown",
      "metadata": {
        "id": "H9wADwK78DCz"
      },
      "source": [
        "# Proyek Analisis Data: E-Commerce Public Dataset\n",
        "- **Nama:** Lathif Ramadhan\n",
        "- **Email:** lathiframadhan18@gmail.com\n",
        "- **ID Dicoding:** latief18"
      ]
    },
    {
      "cell_type": "markdown",
      "metadata": {
        "id": "eE0raob58DC0"
      },
      "source": [
        "## Menentukan Pertanyaan Bisnis"
      ]
    },
    {
      "cell_type": "markdown",
      "metadata": {
        "id": "GmQeQ5YF8DC0"
      },
      "source": [
        "**- Pertanyaan 1**\n",
        "\n",
        "Apa faktor yang paling memengaruhi nilai total pembelian pelanggan di platform e-commerce ini?\n",
        "\n",
        "- Insight yang ingin dicapai: Menganalisis bagaimana berbagai variabel (seperti jumlah item dalam keranjang, kategori produk, atau diskon) mempengaruhi total pembelian pelanggan.\n",
        "\n",
        "**- Pertanyaan 2**\n",
        "\n",
        "Bagaimana pola pembelian berdasarkan waktu? Apakah ada tren musiman atau harian yang terlihat?\n",
        "\n",
        "- Insight yang ingin dicapai: Menganalisis data pembelian untuk melihat apakah ada tren tertentu dalam waktu pembelian (misalnya, hari tertentu dalam seminggu atau bulan) dan bagaimana itu berdampak pada penjualan.\n",
        "\n"
      ]
    },
    {
      "cell_type": "markdown",
      "metadata": {
        "id": "H-z4QGlO8DC1"
      },
      "source": [
        "## Import Semua Packages/Library yang Digunakan"
      ]
    },
    {
      "cell_type": "code",
      "execution_count": 6,
      "metadata": {
        "id": "FVYwaObI8DC1"
      },
      "outputs": [],
      "source": [
        "# Manipulasi dan analisis data\n",
        "import pandas as pd\n",
        "import numpy as np\n",
        "\n",
        "# Visualisasi dasar dan lanjutan\n",
        "import matplotlib.pyplot as plt\n",
        "import seaborn as sns\n",
        "import plotly.express as px  # Opsional, untuk visualisasi interaktif\n",
        "\n",
        "# Pengolahan data lanjutan (opsional, jika ada)\n",
        "from scipy import stats\n",
        "\n",
        "# Analisis geospasial (opsional, jika dataset memuat data lokasi)\n",
        "import geopandas as gpd\n",
        "import folium\n",
        "\n",
        "# Mount Google Drive ke Colab\n",
        "from google.colab import drive\n",
        "\n",
        "# Mengimpor Library untuk Ekstraksi ZIP\n",
        "import zipfile\n",
        "import os"
      ]
    },
    {
      "cell_type": "markdown",
      "metadata": {
        "id": "h_Sh51Xy8DC1"
      },
      "source": [
        "## Data Wrangling"
      ]
    },
    {
      "cell_type": "markdown",
      "metadata": {
        "id": "sXU2GBYu8DC1"
      },
      "source": [
        "### Gathering Data"
      ]
    },
    {
      "cell_type": "markdown",
      "source": [
        "**1. Mount Google Drive**\n",
        "\n",
        "Karena filenya saya simpan di Google Drive, maka saya menggunakan Mount Google drive untuk dapat mengakses datasetnya menggunakan link."
      ],
      "metadata": {
        "id": "zwD1M2gi-bw7"
      }
    },
    {
      "cell_type": "code",
      "execution_count": 3,
      "metadata": {
        "id": "zjCBk1BI8DC1",
        "colab": {
          "base_uri": "https://localhost:8080/"
        },
        "outputId": "c2f2aed7-5e5b-48d5-c32e-41067a3d2733"
      },
      "outputs": [
        {
          "output_type": "stream",
          "name": "stdout",
          "text": [
            "Mounted at /content/drive\n"
          ]
        }
      ],
      "source": [
        "drive.mount('/content/drive')"
      ]
    },
    {
      "cell_type": "markdown",
      "source": [
        "**2. Membaca Dataset**\n"
      ],
      "metadata": {
        "id": "vvkWGJfX-kez"
      }
    },
    {
      "cell_type": "code",
      "source": [
        "# Definisikan jalur ke masing-masing file dataset\n",
        "base_path = '/content/drive/My Drive/Projek Analisis Data Menggunakan Python Dicoding/'  # Ganti dengan jalur folder Anda\n",
        "\n",
        "# Memuat datasets\n",
        "orders_path = os.path.join(base_path, 'orders_dataset.csv')\n",
        "order_items_path = os.path.join(base_path, 'order_items_dataset.csv')\n",
        "customers_path = os.path.join(base_path, 'customers_dataset.csv')\n",
        "\n",
        "# Membaca masing-masing dataset\n",
        "orders_data = pd.read_csv(orders_path)\n",
        "order_items_data = pd.read_csv(order_items_path)\n",
        "customers_data = pd.read_csv(customers_path)\n",
        "\n",
        "# Menampilkan beberapa baris pertama dari masing-masing dataset\n",
        "print(\"Orders Data:\")\n",
        "print(orders_data.head())\n",
        "print(\"\\nOrder Items Data:\")\n",
        "print(order_items_data.head())\n",
        "print(\"\\nCustomers Data:\")\n",
        "print(customers_data.head())\n"
      ],
      "metadata": {
        "id": "MG_jDRa2-jZ4",
        "outputId": "c2254567-ea6f-4f03-89f8-d81eba5e7f84",
        "colab": {
          "base_uri": "https://localhost:8080/"
        }
      },
      "execution_count": 23,
      "outputs": [
        {
          "output_type": "stream",
          "name": "stdout",
          "text": [
            "Orders Data:\n",
            "                           order_id                       customer_id  \\\n",
            "0  e481f51cbdc54678b7cc49136f2d6af7  9ef432eb6251297304e76186b10a928d   \n",
            "1  53cdb2fc8bc7dce0b6741e2150273451  b0830fb4747a6c6d20dea0b8c802d7ef   \n",
            "2  47770eb9100c2d0c44946d9cf07ec65d  41ce2a54c0b03bf3443c3d931a367089   \n",
            "3  949d5b44dbf5de918fe9c16f97b45f8a  f88197465ea7920adcdbec7375364d82   \n",
            "4  ad21c59c0840e6cb83a9ceb5573f8159  8ab97904e6daea8866dbdbc4fb7aad2c   \n",
            "\n",
            "  order_status order_purchase_timestamp    order_approved_at  \\\n",
            "0    delivered      2017-10-02 10:56:33  2017-10-02 11:07:15   \n",
            "1    delivered      2018-07-24 20:41:37  2018-07-26 03:24:27   \n",
            "2    delivered      2018-08-08 08:38:49  2018-08-08 08:55:23   \n",
            "3    delivered      2017-11-18 19:28:06  2017-11-18 19:45:59   \n",
            "4    delivered      2018-02-13 21:18:39  2018-02-13 22:20:29   \n",
            "\n",
            "  order_delivered_carrier_date order_delivered_customer_date  \\\n",
            "0          2017-10-04 19:55:00           2017-10-10 21:25:13   \n",
            "1          2018-07-26 14:31:00           2018-08-07 15:27:45   \n",
            "2          2018-08-08 13:50:00           2018-08-17 18:06:29   \n",
            "3          2017-11-22 13:39:59           2017-12-02 00:28:42   \n",
            "4          2018-02-14 19:46:34           2018-02-16 18:17:02   \n",
            "\n",
            "  order_estimated_delivery_date  \n",
            "0           2017-10-18 00:00:00  \n",
            "1           2018-08-13 00:00:00  \n",
            "2           2018-09-04 00:00:00  \n",
            "3           2017-12-15 00:00:00  \n",
            "4           2018-02-26 00:00:00  \n",
            "\n",
            "Order Items Data:\n",
            "                           order_id  order_item_id  \\\n",
            "0  00010242fe8c5a6d1ba2dd792cb16214              1   \n",
            "1  00018f77f2f0320c557190d7a144bdd3              1   \n",
            "2  000229ec398224ef6ca0657da4fc703e              1   \n",
            "3  00024acbcdf0a6daa1e931b038114c75              1   \n",
            "4  00042b26cf59d7ce69dfabb4e55b4fd9              1   \n",
            "\n",
            "                         product_id                         seller_id  \\\n",
            "0  4244733e06e7ecb4970a6e2683c13e61  48436dade18ac8b2bce089ec2a041202   \n",
            "1  e5f2d52b802189ee658865ca93d83a8f  dd7ddc04e1b6c2c614352b383efe2d36   \n",
            "2  c777355d18b72b67abbeef9df44fd0fd  5b51032eddd242adc84c38acab88f23d   \n",
            "3  7634da152a4610f1595efa32f14722fc  9d7a1d34a5052409006425275ba1c2b4   \n",
            "4  ac6c3623068f30de03045865e4e10089  df560393f3a51e74553ab94004ba5c87   \n",
            "\n",
            "   shipping_limit_date   price  freight_value  \n",
            "0  2017-09-19 09:45:35   58.90          13.29  \n",
            "1  2017-05-03 11:05:13  239.90          19.93  \n",
            "2  2018-01-18 14:48:30  199.00          17.87  \n",
            "3  2018-08-15 10:10:18   12.99          12.79  \n",
            "4  2017-02-13 13:57:51  199.90          18.14  \n",
            "\n",
            "Customers Data:\n",
            "                        customer_id                customer_unique_id  \\\n",
            "0  06b8999e2fba1a1fbc88172c00ba8bc7  861eff4711a542e4b93843c6dd7febb0   \n",
            "1  18955e83d337fd6b2def6b18a428ac77  290c77bc529b7ac935b93aa66c333dc3   \n",
            "2  4e7b3e00288586ebd08712fdd0374a03  060e732b5b29e8181a18229c7b0b2b5e   \n",
            "3  b2b6027bc5c5109e529d4dc6358b12c3  259dac757896d24d7702b9acbbff3f3c   \n",
            "4  4f2d8ab171c80ec8364f7c12e35b23ad  345ecd01c38d18a9036ed96c73b8d066   \n",
            "\n",
            "   customer_zip_code_prefix          customer_city customer_state  \n",
            "0                     14409                 franca             SP  \n",
            "1                      9790  sao bernardo do campo             SP  \n",
            "2                      1151              sao paulo             SP  \n",
            "3                      8775        mogi das cruzes             SP  \n",
            "4                     13056               campinas             SP  \n"
          ]
        }
      ]
    },
    {
      "cell_type": "markdown",
      "source": [
        "### Insight Gathering Data\n",
        "Deskripsi Dataset:\n",
        "\n",
        "**1. Orders Data:**\n",
        "\n",
        "- Jumlah baris: 99442 baris\n",
        "- Jumlah kolom: 8\n",
        "- Kolom yang ada: order_id, customer_id, order_status, order_purchase_timestamp, order_approved_at, order_delivered_carrier_date, order_delivered_customer_date, order_estimated_delivery_date.\n",
        "\n",
        "**2. Order Items Data:**\n",
        "\n",
        "- Jumlah baris: 112561 baris\n",
        "- Jumlah kolom: 7\n",
        "- Kolom yang ada: order_id, order_item_id, product_id, seller_id, shipping_limit_date, price, freight_value.\n",
        "\n",
        "3**. Customers Data:**\n",
        "\n",
        "- Jumlah baris: 99442 baris\n",
        "- Jumlah kolom: 5\n",
        "- Kolom yang ada: customer_id, customer_unique_id, customer_zip_code_prefix, customer_city, customer_state.\n"
      ],
      "metadata": {
        "id": "MMi6xGaDkbCi"
      }
    },
    {
      "cell_type": "markdown",
      "metadata": {
        "id": "FHSiqaZp8DC1"
      },
      "source": [
        "### Assessing Data"
      ]
    },
    {
      "cell_type": "code",
      "source": [
        "# Memeriksa informasi dasar dari masing-masing dataset\n",
        "print(\"\\tOrders Data Info:\")\n",
        "print(orders_data.info())\n",
        "print(\"\\n\\n\\tOrder Items Data Info:\")\n",
        "print(order_items_data.info())\n",
        "print(\"\\n\\n\\tCustomers Data Info:\")\n",
        "print(customers_data.info())\n",
        "\n",
        "# Menampilkan ringkasan statistik untuk dataset numerik\n",
        "print(\"\\n\\n\\tOrders Data Summary:\")\n",
        "print(orders_data.describe())\n",
        "print(\"\\n\\n\\tOrder Items Data Summary:\")\n",
        "print(order_items_data.describe())\n",
        "print(\"\\n\\n\\tCustomers Data Summary:\")\n",
        "print(customers_data.describe())\n"
      ],
      "metadata": {
        "id": "ax-3tEjc9Cj1",
        "colab": {
          "base_uri": "https://localhost:8080/"
        },
        "outputId": "40b4bcae-5861-4ae3-c443-7caa90000e89"
      },
      "execution_count": 26,
      "outputs": [
        {
          "output_type": "stream",
          "name": "stdout",
          "text": [
            "\tOrders Data Info:\n",
            "<class 'pandas.core.frame.DataFrame'>\n",
            "RangeIndex: 99441 entries, 0 to 99440\n",
            "Data columns (total 8 columns):\n",
            " #   Column                         Non-Null Count  Dtype \n",
            "---  ------                         --------------  ----- \n",
            " 0   order_id                       99441 non-null  object\n",
            " 1   customer_id                    99441 non-null  object\n",
            " 2   order_status                   99441 non-null  object\n",
            " 3   order_purchase_timestamp       99441 non-null  object\n",
            " 4   order_approved_at              99281 non-null  object\n",
            " 5   order_delivered_carrier_date   97658 non-null  object\n",
            " 6   order_delivered_customer_date  96476 non-null  object\n",
            " 7   order_estimated_delivery_date  99441 non-null  object\n",
            "dtypes: object(8)\n",
            "memory usage: 6.1+ MB\n",
            "None\n",
            "\n",
            "\n",
            "\tOrder Items Data Info:\n",
            "<class 'pandas.core.frame.DataFrame'>\n",
            "RangeIndex: 112650 entries, 0 to 112649\n",
            "Data columns (total 7 columns):\n",
            " #   Column               Non-Null Count   Dtype  \n",
            "---  ------               --------------   -----  \n",
            " 0   order_id             112650 non-null  object \n",
            " 1   order_item_id        112650 non-null  int64  \n",
            " 2   product_id           112650 non-null  object \n",
            " 3   seller_id            112650 non-null  object \n",
            " 4   shipping_limit_date  112650 non-null  object \n",
            " 5   price                112650 non-null  float64\n",
            " 6   freight_value        112650 non-null  float64\n",
            "dtypes: float64(2), int64(1), object(4)\n",
            "memory usage: 6.0+ MB\n",
            "None\n",
            "\n",
            "\n",
            "\tCustomers Data Info:\n",
            "<class 'pandas.core.frame.DataFrame'>\n",
            "RangeIndex: 99441 entries, 0 to 99440\n",
            "Data columns (total 5 columns):\n",
            " #   Column                    Non-Null Count  Dtype \n",
            "---  ------                    --------------  ----- \n",
            " 0   customer_id               99441 non-null  object\n",
            " 1   customer_unique_id        99441 non-null  object\n",
            " 2   customer_zip_code_prefix  99441 non-null  int64 \n",
            " 3   customer_city             99441 non-null  object\n",
            " 4   customer_state            99441 non-null  object\n",
            "dtypes: int64(1), object(4)\n",
            "memory usage: 3.8+ MB\n",
            "None\n",
            "\n",
            "\n",
            "\tOrders Data Summary:\n",
            "                                order_id                       customer_id  \\\n",
            "count                              99441                             99441   \n",
            "unique                             99441                             99441   \n",
            "top     e481f51cbdc54678b7cc49136f2d6af7  9ef432eb6251297304e76186b10a928d   \n",
            "freq                                   1                                 1   \n",
            "\n",
            "       order_status order_purchase_timestamp    order_approved_at  \\\n",
            "count         99441                    99441                99281   \n",
            "unique            8                    98875                90733   \n",
            "top       delivered      2018-04-11 10:48:14  2018-02-27 04:31:10   \n",
            "freq          96478                        3                    9   \n",
            "\n",
            "       order_delivered_carrier_date order_delivered_customer_date  \\\n",
            "count                         97658                         96476   \n",
            "unique                        81018                         95664   \n",
            "top             2018-05-09 15:48:00           2018-05-08 23:38:46   \n",
            "freq                             47                             3   \n",
            "\n",
            "       order_estimated_delivery_date  \n",
            "count                          99441  \n",
            "unique                           459  \n",
            "top              2017-12-20 00:00:00  \n",
            "freq                             522  \n",
            "\n",
            "\n",
            "\tOrder Items Data Summary:\n",
            "       order_item_id          price  freight_value\n",
            "count  112650.000000  112650.000000  112650.000000\n",
            "mean        1.197834     120.653739      19.990320\n",
            "std         0.705124     183.633928      15.806405\n",
            "min         1.000000       0.850000       0.000000\n",
            "25%         1.000000      39.900000      13.080000\n",
            "50%         1.000000      74.990000      16.260000\n",
            "75%         1.000000     134.900000      21.150000\n",
            "max        21.000000    6735.000000     409.680000\n",
            "\n",
            "\n",
            "\tCustomers Data Summary:\n",
            "       customer_zip_code_prefix\n",
            "count              99441.000000\n",
            "mean               35137.474583\n",
            "std                29797.938996\n",
            "min                 1003.000000\n",
            "25%                11347.000000\n",
            "50%                24416.000000\n",
            "75%                58900.000000\n",
            "max                99990.000000\n"
          ]
        }
      ]
    },
    {
      "cell_type": "markdown",
      "source": [
        "**Insight:**\n",
        "### Insight Dataset\n",
        "1. **Orders Data**: Dataset berisi 99.441 pesanan dengan beberapa nilai hilang pada kolom `order_approved_at`, `order_delivered_carrier_date`, dan `order_delivered_customer_date`. Mayoritas status pesanan adalah `delivered`, yang menunjukkan keberhasilan pengiriman.\n",
        "\n",
        "2. **Order Items Data**: Dataset memiliki 112.650 item pesanan dengan harga bervariasi dari yang rendah hingga tinggi. Rata-rata harga item adalah Rp 120.653, dan ada beberapa item dengan biaya pengiriman nol. Ini bisa menunjukkan berbagai kategori produk yang ditawarkan.\n",
        "\n",
        "3. **Customers Data**: Dataset berisi 99.441 pelanggan dengan rentang kode pos yang luas. Ini dapat memberikan wawasan tentang distribusi pelanggan dan segmen pasar yang berbeda yang perlu dianalisis lebih lanjut.\n"
      ],
      "metadata": {
        "id": "7dtxhAPrkhPL"
      }
    },
    {
      "cell_type": "markdown",
      "metadata": {
        "id": "EhN5R4hr8DC1"
      },
      "source": [
        "### Cleaning Data"
      ]
    },
    {
      "cell_type": "code",
      "source": [
        "# Cleaning Orders Data\n",
        "# Menghapus duplikat\n",
        "orders_data.drop_duplicates(inplace=True)\n",
        "\n",
        "# Menangani nilai hilang\n",
        "# Mengisi nilai hilang pada 'order_approved_at' dengan tanggal terbaru dari 'order_purchase_timestamp'\n",
        "orders_data['order_approved_at'].fillna(orders_data['order_purchase_timestamp'], inplace=True)\n",
        "\n",
        "# Menghapus entri yang memiliki nilai hilang pada kolom penting\n",
        "orders_data.dropna(subset=['order_delivered_carrier_date', 'order_delivered_customer_date'], inplace=True)\n",
        "\n",
        "# Mengubah kolom menjadi tipe data datetime\n",
        "orders_data['order_purchase_timestamp'] = pd.to_datetime(orders_data['order_purchase_timestamp'])\n",
        "orders_data['order_approved_at'] = pd.to_datetime(orders_data['order_approved_at'])\n",
        "orders_data['order_delivered_carrier_date'] = pd.to_datetime(orders_data['order_delivered_carrier_date'])\n",
        "orders_data['order_delivered_customer_date'] = pd.to_datetime(orders_data['order_delivered_customer_date'])\n",
        "\n",
        "# Cleaning Order Items Data\n",
        "# Menghapus duplikat\n",
        "order_items_data.drop_duplicates(inplace=True)\n",
        "\n",
        "# Memeriksa nilai harga dan freight_value\n",
        "order_items_data = order_items_data[order_items_data['price'] >= 0]  # Menghapus harga negatif\n",
        "order_items_data = order_items_data[order_items_data['freight_value'] >= 0]  # Menghapus freight value negatif\n",
        "\n",
        "# Cleaning Customers Data\n",
        "# Menghapus duplikat\n",
        "customers_data.drop_duplicates(inplace=True)\n",
        "\n",
        "# Menangani nilai hilang (tidak ada yang terdeteksi, tetapi bisa ditangani jika perlu)\n",
        "# Mengubah kolom customer_zip_code_prefix menjadi tipe data string\n",
        "customers_data['customer_zip_code_prefix'] = customers_data['customer_zip_code_prefix'].astype(str)\n",
        "\n",
        "# Setelah membersihkan data, Anda bisa melihat ringkasan data yang bersih\n",
        "print(\"Orders Data Cleaned:\")\n",
        "print(orders_data.info())\n",
        "\n",
        "print(\"Order Items Data Cleaned:\")\n",
        "print(order_items_data.info())\n",
        "\n",
        "print(\"Customers Data Cleaned:\")\n",
        "print(customers_data.info())\n"
      ],
      "metadata": {
        "id": "jVnYpprE9Evz",
        "colab": {
          "base_uri": "https://localhost:8080/"
        },
        "outputId": "28fca153-f2de-4993-8775-a005374652b6"
      },
      "execution_count": 27,
      "outputs": [
        {
          "output_type": "stream",
          "name": "stderr",
          "text": [
            "<ipython-input-27-9b80adf34b6a>:7: FutureWarning: A value is trying to be set on a copy of a DataFrame or Series through chained assignment using an inplace method.\n",
            "The behavior will change in pandas 3.0. This inplace method will never work because the intermediate object on which we are setting values always behaves as a copy.\n",
            "\n",
            "For example, when doing 'df[col].method(value, inplace=True)', try using 'df.method({col: value}, inplace=True)' or df[col] = df[col].method(value) instead, to perform the operation inplace on the original object.\n",
            "\n",
            "\n",
            "  orders_data['order_approved_at'].fillna(orders_data['order_purchase_timestamp'], inplace=True)\n"
          ]
        },
        {
          "output_type": "stream",
          "name": "stdout",
          "text": [
            "Orders Data Cleaned:\n",
            "<class 'pandas.core.frame.DataFrame'>\n",
            "Index: 96475 entries, 0 to 99440\n",
            "Data columns (total 8 columns):\n",
            " #   Column                         Non-Null Count  Dtype         \n",
            "---  ------                         --------------  -----         \n",
            " 0   order_id                       96475 non-null  object        \n",
            " 1   customer_id                    96475 non-null  object        \n",
            " 2   order_status                   96475 non-null  object        \n",
            " 3   order_purchase_timestamp       96475 non-null  datetime64[ns]\n",
            " 4   order_approved_at              96475 non-null  datetime64[ns]\n",
            " 5   order_delivered_carrier_date   96475 non-null  datetime64[ns]\n",
            " 6   order_delivered_customer_date  96475 non-null  datetime64[ns]\n",
            " 7   order_estimated_delivery_date  96475 non-null  object        \n",
            "dtypes: datetime64[ns](4), object(4)\n",
            "memory usage: 6.6+ MB\n",
            "None\n",
            "Order Items Data Cleaned:\n",
            "<class 'pandas.core.frame.DataFrame'>\n",
            "RangeIndex: 112650 entries, 0 to 112649\n",
            "Data columns (total 7 columns):\n",
            " #   Column               Non-Null Count   Dtype  \n",
            "---  ------               --------------   -----  \n",
            " 0   order_id             112650 non-null  object \n",
            " 1   order_item_id        112650 non-null  int64  \n",
            " 2   product_id           112650 non-null  object \n",
            " 3   seller_id            112650 non-null  object \n",
            " 4   shipping_limit_date  112650 non-null  object \n",
            " 5   price                112650 non-null  float64\n",
            " 6   freight_value        112650 non-null  float64\n",
            "dtypes: float64(2), int64(1), object(4)\n",
            "memory usage: 6.0+ MB\n",
            "None\n",
            "Customers Data Cleaned:\n",
            "<class 'pandas.core.frame.DataFrame'>\n",
            "RangeIndex: 99441 entries, 0 to 99440\n",
            "Data columns (total 5 columns):\n",
            " #   Column                    Non-Null Count  Dtype \n",
            "---  ------                    --------------  ----- \n",
            " 0   customer_id               99441 non-null  object\n",
            " 1   customer_unique_id        99441 non-null  object\n",
            " 2   customer_zip_code_prefix  99441 non-null  object\n",
            " 3   customer_city             99441 non-null  object\n",
            " 4   customer_state            99441 non-null  object\n",
            "dtypes: object(5)\n",
            "memory usage: 3.8+ MB\n",
            "None\n"
          ]
        }
      ]
    },
    {
      "cell_type": "markdown",
      "source": [
        "### Penjelasan Kode\n",
        "\n",
        "1. **Menghapus Duplikat**: `drop_duplicates()` digunakan untuk menghapus baris yang sama.\n",
        "2. **Menangani Nilai Hilang**: `fillna()` digunakan untuk mengisi nilai hilang dengan nilai lain, sedangkan `dropna()` digunakan untuk menghapus baris yang memiliki nilai hilang di kolom tertentu.\n",
        "3. **Mengubah Tipe Data**: `pd.to_datetime()` digunakan untuk mengubah string ke format datetime.\n",
        "4. **Memeriksa dan Menghapus Data yang Tidak Valid**: Kita memfilter dataset untuk memastikan harga dan biaya pengiriman tidak negatif.\n"
      ],
      "metadata": {
        "id": "enNaq7rqS_DH"
      }
    },
    {
      "cell_type": "markdown",
      "source": [
        "**Insight:**\n",
        "Insight dari Data yang Sudah Dibersihkan\n",
        "1. Orders Data:\n",
        "\n",
        "- Jumlah Data: Setelah pembersihan, terdapat 96.475 entri yang valid dari total 99.441 entri awal. Ini menunjukkan bahwa beberapa entri dihapus karena nilai hilang pada kolom penting, seperti tanggal pengiriman.\n",
        "- Tipe Data: Kolom tanggal kini sudah dalam format datetime, yang memungkinkan analisis waktu yang lebih baik, seperti waktu pemrosesan pesanan dan estimasi pengiriman.\n",
        "- Status Pesanan: Semua entri masih memiliki status pesanan, menunjukkan tidak ada entri dengan status yang hilang.\n",
        "2. Order Items Data:\n",
        "- Jumlah Data: Tidak ada perubahan dalam jumlah entri, tetap 112.650 entri setelah pembersihan. Ini berarti tidak ada entri yang dihapus karena nilai hilang.\n",
        "- Harga dan Biaya Pengiriman: Semua entri dalam kolom harga dan biaya pengiriman adalah valid dan tidak negatif. Ini penting untuk memastikan akurasi dalam analisis biaya.\n",
        "3. Customers Data:\n",
        "- Konsistensi Data: Jumlah entri tetap 99.441, menunjukkan bahwa tidak ada duplikasi yang terdeteksi dan semua data konsisten.\n",
        "- Kategorisasi Pelanggan: Kolom customer_zip_code_prefix sudah diubah menjadi tipe string, memudahkan analisis geografis."
      ],
      "metadata": {
        "id": "Q_5ejIqckiSP"
      }
    },
    {
      "cell_type": "markdown",
      "metadata": {
        "id": "gp-Y6wU38DC1"
      },
      "source": [
        "## Exploratory Data Analysis (EDA)"
      ]
    },
    {
      "cell_type": "markdown",
      "metadata": {
        "id": "MW7WF2kr8DC1"
      },
      "source": [
        "### Explore ..."
      ]
    },
    {
      "cell_type": "code",
      "execution_count": null,
      "metadata": {
        "id": "e9CQCZjk8DC2"
      },
      "outputs": [],
      "source": []
    },
    {
      "cell_type": "markdown",
      "source": [
        "**Insight:**\n",
        "- xxx\n",
        "- xxx"
      ],
      "metadata": {
        "id": "th_Lzl2Fkj9O"
      }
    },
    {
      "cell_type": "markdown",
      "metadata": {
        "id": "zsyZjqak8DC2"
      },
      "source": [
        "## Visualization & Explanatory Analysis"
      ]
    },
    {
      "cell_type": "markdown",
      "metadata": {
        "id": "HZxOiQ6n8DC2"
      },
      "source": [
        "### Pertanyaan 1:"
      ]
    },
    {
      "cell_type": "code",
      "execution_count": null,
      "metadata": {
        "id": "1swJUdAD8DC2"
      },
      "outputs": [],
      "source": []
    },
    {
      "cell_type": "markdown",
      "metadata": {
        "id": "DgHI7CiU8DC2"
      },
      "source": [
        "### Pertanyaan 2:"
      ]
    },
    {
      "cell_type": "code",
      "execution_count": null,
      "metadata": {
        "id": "Go0lCsvO8DC2"
      },
      "outputs": [],
      "source": []
    },
    {
      "cell_type": "markdown",
      "source": [
        "**Insight:**\n",
        "- xxx\n",
        "- xxx"
      ],
      "metadata": {
        "id": "_0-36BDLklRg"
      }
    },
    {
      "cell_type": "markdown",
      "source": [
        "## Analisis Lanjutan (Opsional)"
      ],
      "metadata": {
        "id": "9y4VUsmcYNZ5"
      }
    },
    {
      "cell_type": "code",
      "source": [],
      "metadata": {
        "id": "iWhnzsJGYUCO"
      },
      "execution_count": null,
      "outputs": []
    },
    {
      "cell_type": "markdown",
      "metadata": {
        "id": "_WeHlCeX8DC2"
      },
      "source": [
        "## Conclusion"
      ]
    },
    {
      "cell_type": "markdown",
      "metadata": {
        "id": "ZTcyR48Y8DC2"
      },
      "source": [
        "- Conclution pertanyaan 1\n",
        "- Conclution pertanyaan 2"
      ]
    }
  ],
  "metadata": {
    "kernelspec": {
      "display_name": "Python 3",
      "language": "python",
      "name": "python3"
    },
    "language_info": {
      "name": "python",
      "version": "3.8.0 (tags/v3.8.0:fa919fd, Oct 14 2019, 19:21:23) [MSC v.1916 32 bit (Intel)]"
    },
    "orig_nbformat": 4,
    "vscode": {
      "interpreter": {
        "hash": "972b3bf27e332e87b5379f2791f6ef9dfc79c71018c370b0d7423235e20fe4d7"
      }
    },
    "colab": {
      "provenance": [],
      "include_colab_link": true
    }
  },
  "nbformat": 4,
  "nbformat_minor": 0
}
